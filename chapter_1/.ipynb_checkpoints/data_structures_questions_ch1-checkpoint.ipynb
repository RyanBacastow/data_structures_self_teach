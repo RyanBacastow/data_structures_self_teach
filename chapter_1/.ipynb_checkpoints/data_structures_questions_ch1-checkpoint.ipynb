{
 "cells": [
  {
   "cell_type": "code",
   "execution_count": 1,
   "metadata": {},
   "outputs": [
    {
     "ename": "ModuleNotFoundError",
     "evalue": "No module named 'pyspark'",
     "output_type": "error",
     "traceback": [
      "\u001b[1;31m---------------------------------------------------------------------------\u001b[0m",
      "\u001b[1;31mModuleNotFoundError\u001b[0m                       Traceback (most recent call last)",
      "\u001b[1;32m<ipython-input-1-451e5d7bb850>\u001b[0m in \u001b[0;36m<module>\u001b[1;34m()\u001b[0m\n\u001b[0;32m      1\u001b[0m \u001b[1;31m#CHAPTER 1\u001b[0m\u001b[1;33m\u001b[0m\u001b[1;33m\u001b[0m\u001b[0m\n\u001b[1;32m----> 2\u001b[1;33m \u001b[1;32mfrom\u001b[0m \u001b[0mpyspark\u001b[0m\u001b[1;33m.\u001b[0m\u001b[0msql\u001b[0m \u001b[1;32mimport\u001b[0m \u001b[0mSparkSession\u001b[0m\u001b[1;33m\u001b[0m\u001b[0m\n\u001b[0m\u001b[0;32m      3\u001b[0m \u001b[1;32mfrom\u001b[0m \u001b[0mpyspark\u001b[0m\u001b[1;33m.\u001b[0m\u001b[0msql\u001b[0m \u001b[1;32mimport\u001b[0m \u001b[0mfunctions\u001b[0m \u001b[1;32mas\u001b[0m \u001b[0mF\u001b[0m\u001b[1;33m\u001b[0m\u001b[0m\n",
      "\u001b[1;31mModuleNotFoundError\u001b[0m: No module named 'pyspark'"
     ]
    }
   ],
   "source": [
    "with open('new_lorem.txt', 'r+')"
   ]
  },
  {
   "cell_type": "code",
   "execution_count": 2,
   "metadata": {},
   "outputs": [
    {
     "data": {
      "text/html": [
       "<style scoped>\n",
       "  .table-result-container {\n",
       "    max-height: 300px;\n",
       "    overflow: auto;\n",
       "  }\n",
       "  table, th, td {\n",
       "    border: 1px solid black;\n",
       "    border-collapse: collapse;\n",
       "  }\n",
       "  th, td {\n",
       "    padding: 5px;\n",
       "  }\n",
       "  th {\n",
       "    text-align: left;\n",
       "  }\n",
       "</style><div class='table-result-container'><table class='table-result'><thead style='background-color: white'><tr><th>_c0</th></tr></thead><tbody><tr><td>Lorem ipsum dolor sit amet, consectetur adipiscing elit</td></tr><tr><td>Maecenas nec velit at risus ullamcorper porta et non ante</td></tr><tr><td>Nulla hendrerit nisl libero, in convallis lorem eleifend consequat</td></tr><tr><td>Mauris a libero ac nisl porttitor facilisis eget ut tortor</td></tr><tr><td>Donec at ligula mattis, fringilla leo non, mattis velit</td></tr><tr><td>Maecenas sed semper orci</td></tr><tr><td>Sed varius eros in massa ultrices lobortis</td></tr><tr><td>Duis viverra, odio ut luctus porttitor, mauris libero ornare quam, non eleifend risus eros at elit</td></tr><tr><td>Duis at viverra felis, id volutpat ante</td></tr><tr><td>In in massa eu ipsum vulputate suscipit quis eget nisi</td></tr><tr><td>Duis eu mauris non felis pulvinar dignissim eu id neque</td></tr><tr><td>Phasellus porttitor vel ante sed pellentesque</td></tr><tr><td>Vivamus ullamcorper nisi laoreet rhoncus sollicitudin</td></tr><tr><td>Mauris molestie ac lacus vitae fringilla</td></tr><tr><td>Nullam scelerisque lorem ut erat cursus maximus</td></tr><tr><td>Suspendisse vehicula massa erat, ac vestibulum neque vestibulum nec</td></tr><tr><td>Ut finibus lacus nec efficitur ullamcorper</td></tr><tr><td>Praesent suscipit dolor eu purus mattis, sit amet tincidunt tortor dapibus</td></tr><tr><td>Cras id turpis ultrices mi cursus venenatis ac at ante</td></tr><tr><td>Vivamus vitae interdum augue</td></tr><tr><td>Quisque eget vehicula nunc</td></tr><tr><td>Morbi ut sodales lacus</td></tr><tr><td>Nulla fringilla venenatis lorem eu egestas</td></tr><tr><td>Proin hendrerit auctor nulla id vulputate</td></tr><tr><td>Nulla auctor dui vitae tellus viverra maximus</td></tr><tr><td>Pellentesque a sapien ac orci efficitur malesuada</td></tr><tr><td>Etiam tellus odio, lobortis id feugiat fermentum, finibus vulputate turpis</td></tr><tr><td>Donec interdum nibh at leo cursus, quis imperdiet lorem auctor</td></tr><tr><td>Aenean dictum pulvinar risus, vel commodo tortor aliquam eget</td></tr><tr><td>Vivamus id iaculis neque</td></tr><tr><td>Praesent luctus lorem non odio ultricies tincidunt</td></tr><tr><td>Phasellus lacinia est urna, sit amet aliquam urna semper sed</td></tr><tr><td>Pellentesque habitant morbi tristique senectus et netus et malesuada fames ac turpis egestas</td></tr><tr><td>Morbi quam enim, consequat ut quam at, molestie pulvinar odio</td></tr><tr><td>Curabitur aliquam tempus odio, eget auctor nisl efficitur eu</td></tr><tr><td>Aenean tincidunt et urna sit amet fringilla</td></tr><tr><td>Curabitur porttitor, urna vel sodales condimentum, tortor turpis placerat nunc, nec bibendum mauris lacus eu nibh</td></tr><tr><td>Sed at dignissim mi</td></tr><tr><td>Duis facilisis accumsan elit eu vehicula</td></tr><tr><td>Vivamus interdum turpis ac est hendrerit, vitae viverra nibh lobortis</td></tr><tr><td>Pellentesque lacinia est urna, sed imperdiet justo condimentum eu</td></tr><tr><td>Cras sagittis a nibh in ullamcorper</td></tr><tr><td>In eu nisi tristique, vestibulum massa a, convallis arcu</td></tr><tr><td>Pellentesque suscipit dui tellus, aliquet porta turpis consectetur a</td></tr><tr><td>Mauris in lorem tortor</td></tr><tr><td>Suspendisse ac erat vitae mauris mattis vestibulum ac ut sapien</td></tr><tr><td>Phasellus enim lacus, rhoncus non gravida at, bibendum sit amet lorem</td></tr><tr><td>Donec facilisis elit eget tortor maximus efficitur</td></tr><tr><td>Quisque malesuada lectus tempor, pellentesque metus a, auctor dui</td></tr><tr><td>Donec laoreet eget sem at ultricies</td></tr><tr><td>Pellentesque sit amet mollis leo</td></tr><tr><td>Vivamus varius ipsum rutrum, auctor massa id, consectetur turpis</td></tr><tr><td>Etiam facilisis purus ultrices interdum vestibulum</td></tr><tr><td>Proin justo dui, finibus at odio et, tempor molestie lectus</td></tr><tr><td>Donec sapien felis, hendrerit ut suscipit et, rutrum nec nulla</td></tr><tr><td>Ut convallis id ex at condimentum</td></tr><tr><td>Morbi blandit, enim id ultricies scelerisque, lectus ligula vehicula leo, ut tristique enim nunc ac velit</td></tr><tr><td>Donec fringilla sodales purus, sed venenatis nulla dignissim vel</td></tr><tr><td>Curabitur consequat mattis risus, ut placerat diam volutpat et</td></tr><tr><td>Donec vitae ligula elit</td></tr><tr><td>Vivamus malesuada sapien eu sem tincidunt venenatis sed tristique mi</td></tr><tr><td>Ut tempus urna sed elit gravida, at placerat justo tristique</td></tr><tr><td>Suspendisse potenti</td></tr><tr><td>Nulla facilisi</td></tr><tr><td>Ut et viverra turpis</td></tr><tr><td>Fusce congue nibh vitae lectus consectetur porta</td></tr><tr><td>Fusce quis justo vehicula leo posuere tempor</td></tr><tr><td>Donec sit amet augue dignissim, venenatis sem sed, commodo odio</td></tr><tr><td>Donec tincidunt vehicula justo, eget egestas mi fermentum vel</td></tr><tr><td>Vestibulum dolor augue, tincidunt in pulvinar in, vulputate et felis</td></tr><tr><td>Etiam molestie, sapien blandit dapibus sagittis, ipsum est semper diam, eget faucibus nisl urna quis nunc</td></tr><tr><td>Sed augue eros, condimentum tincidunt magna sit amet, volutpat vehicula lorem</td></tr><tr><td>Nunc vitae rutrum lacus, ut semper purus</td></tr><tr><td>Donec commodo at felis at pulvinar</td></tr><tr><td>Vivamus molestie augue eu mauris fringilla, vel ultricies ligula elementum</td></tr><tr><td>Proin luctus augue at dui maximus cursus</td></tr><tr><td>Nulla facilisi</td></tr><tr><td>Fusce vel posuere augue, a semper metus</td></tr><tr><td>Nunc vulputate consequat tempor</td></tr><tr><td>Quisque ornare nunc lectus</td></tr><tr><td>Nam cursus finibus nibh, ac blandit dolor rhoncus id</td></tr><tr><td>Nullam ut risus turpis</td></tr><tr><td>Donec faucibus, mi et mollis gravida, turpis erat mattis nisl, nec pulvinar eros sem vitae tellus</td></tr><tr><td>Aliquam tempor elit id neque suscipit dictum</td></tr><tr><td>Cras in nulla fringilla, congue risus ut, semper ipsum</td></tr><tr><td>Suspendisse egestas vel orci vel bibendum</td></tr><tr><td>Aenean a feugiat eros</td></tr><tr><td>Morbi ac ultricies purus</td></tr><tr><td>Suspendisse lacinia luctus risus, vel eleifend odio</td></tr><tr><td>Etiam rhoncus neque a nibh volutpat, sit amet iaculis nunc vehicula</td></tr><tr><td>In eget nulla a ex varius venenatis a id justo</td></tr><tr><td>Aenean ut sem risus</td></tr><tr><td>Nunc et ultricies nisi, ut iaculis nisl</td></tr><tr><td>Nullam ut varius eros</td></tr><tr><td>Sed eget lacus id ipsum facilisis auctor</td></tr><tr><td>Ut vel metus sed tellus efficitur vestibulum</td></tr><tr><td>Maecenas sed interdum neque</td></tr><tr><td>Proin ultricies maximus dui non volutpat</td></tr><tr><td>Vestibulum fermentum sollicitudin magna sit amet lobortis</td></tr><tr><td>Nullam eget dictum libero, nec euismod felis</td></tr><tr><td>Vestibulum iaculis lectus sit amet efficitur ullamcorper</td></tr><tr><td>Ut tempor erat in mi lobortis pretium</td></tr><tr><td>Morbi ut tortor nunc</td></tr><tr><td>Aenean laoreet sapien eu erat hendrerit, id pharetra felis vehicula</td></tr><tr><td>Sed ullamcorper id dui vitae rutrum</td></tr><tr><td>Donec venenatis hendrerit augue rutrum dictum</td></tr><tr><td>Curabitur suscipit id leo ac faucibus</td></tr><tr><td>Interdum et malesuada fames ac ante ipsum primis in faucibus</td></tr><tr><td>Duis consequat tincidunt nisi eu finibus</td></tr><tr><td>Aenean lobortis, ligula eget vestibulum sollicitudin, erat nisl euismod ipsum, id rhoncus magna nisl sit amet metus</td></tr><tr><td>Etiam rhoncus sit amet urna at sodales</td></tr><tr><td>Phasellus maximus molestie magna a ornare</td></tr><tr><td>Suspendisse eget consequat ligula</td></tr><tr><td>Nam id cursus felis</td></tr><tr><td>In euismod scelerisque mi, vitae gravida lorem ultricies et</td></tr><tr><td>Phasellus consectetur mauris at convallis varius</td></tr><tr><td>Aenean tempor, augue eu fringilla tincidunt, dui sem dignissim nibh, eu accumsan mi dolor id nisi</td></tr><tr><td>Aenean vehicula mi vitae purus maximus volutpat</td></tr><tr><td>Curabitur lobortis lectus augue, quis porta ipsum placerat nec</td></tr><tr><td>Sed ac lacus at arcu egestas dictum blandit feugiat odio</td></tr><tr><td>Cras egestas, augue vitae condimentum eleifend, sapien nulla bibendum velit, vel varius dui nulla vitae velit</td></tr><tr><td>Donec eget lectus volutpat, consequat urna quis, fermentum mi</td></tr><tr><td>Cras sed augue lectus</td></tr><tr><td>Cras turpis erat, volutpat ut porttitor in, vehicula vitae nisl</td></tr><tr><td>Nunc non mollis libero</td></tr><tr><td>Mauris commodo est vitae velit vestibulum, vitae hendrerit justo feugiat</td></tr><tr><td>Donec vehicula pharetra venenatis</td></tr><tr><td>Suspendisse a dolor vel lacus blandit venenatis</td></tr><tr><td>In facilisis erat lectus, eu venenatis</td></tr><tr><td>.</td></tr></tbody></table></div>"
      ]
     },
     "metadata": {},
     "output_type": "display_data"
    }
   ],
   "source": []
  },
  {
   "cell_type": "code",
   "execution_count": 3,
   "metadata": {
    "collapsed": true
   },
   "outputs": [],
   "source": [
    "\"\"\"\n",
    "Question 1\n",
    "Read the input one line at a time and then write the lines out in reverse order, so that the last input line is printed first, then the second last input line, and so on\n",
    "\"\"\"\n",
    "\n"
   ]
  },
  {
   "cell_type": "code",
   "execution_count": 4,
   "metadata": {
    "collapsed": true
   },
   "outputs": [],
   "source": [
    "\"\"\"\n",
    "Question 2\n",
    "Read the first 50 lines of input and then write them out in reverse\n",
    "order. Read the next 50 lines and then write them out in reverse\n",
    "order. Do this until there are no more lines left to read, at which\n",
    "point any remaining lines should be output in reverse order.\n",
    "In other words, your output will start with the 50th line, then the\n",
    "49th, then the 48th, and so on down to the first line. This will be\n",
    "followed by the 100th line, followed by the 99th, and so on down to\n",
    "the 51st line. And so on.\n",
    "Your code should never have to store more than 50 lines at any given\n",
    "time.\n",
    "\"\"\""
   ]
  },
  {
   "cell_type": "code",
   "execution_count": 5,
   "metadata": {
    "collapsed": true
   },
   "outputs": [],
   "source": [
    "\"\"\"\n",
    "Question 3\n",
    "Read the input one line at a time. At any point after reading the\n",
    "first 42 lines, if some line is blank (i.e., a string of length 0), then\n",
    "output the line that occured 42 lines prior to that one. For example,\n",
    "if Line 242 is blank, then your program should output line 200.\n",
    "This program should be implemented so that it never stores more\n",
    "than 43 lines of the input at any given time.\n",
    "\"\"\""
   ]
  },
  {
   "cell_type": "code",
   "execution_count": 6,
   "metadata": {
    "collapsed": true
   },
   "outputs": [],
   "source": [
    "\"\"\"\n",
    "Question 4\n",
    "Read the input one line at a time and write each line to the output\n",
    "if it is not a duplicate of some previous input line. Take special care\n",
    "so that a file with a lot of duplicate lines does not use more memory\n",
    "than what is required for the number of unique lines.\n",
    "\"\"\""
   ]
  },
  {
   "cell_type": "code",
   "execution_count": 7,
   "metadata": {
    "collapsed": true
   },
   "outputs": [],
   "source": [
    "\"\"\"\n",
    "Question 5\n",
    "Read the input one line at a time and write each line to the output\n",
    "only if you have already read this line before. (The end result is that\n",
    "you remove the first occurrence of each line.) Take special care so\n",
    "that a file with a lot of duplicate lines does not use more memory\n",
    "than what is required for the number of unique lines.\n",
    "\"\"\""
   ]
  },
  {
   "cell_type": "code",
   "execution_count": 8,
   "metadata": {
    "collapsed": true
   },
   "outputs": [],
   "source": [
    "\"\"\"\n",
    "Question 6\n",
    "Read the entire input one line at a time. Then output all lines sorted\n",
    "by length, with the shortest lines first. In the case where two lines\n",
    "have the same length, resolve their order using the usual “sorted\n",
    "order.” Duplicate lines should be printed only once.\n",
    "\"\"\""
   ]
  },
  {
   "cell_type": "code",
   "execution_count": 9,
   "metadata": {
    "collapsed": true
   },
   "outputs": [],
   "source": [
    "\"\"\"\n",
    "Question 7\n",
    "Do the same as the previous question except that duplicate lines\n",
    "should be printed the same number of times that they appear in the\n",
    "input.\n",
    "\"\"\""
   ]
  },
  {
   "cell_type": "code",
   "execution_count": 10,
   "metadata": {
    "collapsed": true
   },
   "outputs": [],
   "source": [
    "\"\"\"\n",
    "Question 8\n",
    "Read the entire input one line at a time and then output the even\n",
    "numbered lines (starting with the first line, line 0) followed by the\n",
    "odd-numbered lines.\n",
    "\"\"\""
   ]
  },
  {
   "cell_type": "code",
   "execution_count": 11,
   "metadata": {
    "collapsed": true
   },
   "outputs": [],
   "source": [
    "\"\"\"\n",
    "Question 9\n",
    "Read the entire input one line at a time and randomly permute the\n",
    "lines before outputting them. To be clear: You should not modify\n",
    "the contents of any line. Instead, the same collection of lines should\n",
    "be printed, but in a random order.\n",
    "\"\"\""
   ]
  },
  {
   "cell_type": "code",
   "execution_count": 12,
   "metadata": {
    "collapsed": true
   },
   "outputs": [],
   "source": [
    "\"\"\"\n",
    "Exercise 1.2. \n",
    "A Dyck word is a sequence of +1’s and -1’s with the property\n",
    "that the sum of any prefix of the sequence is never negative. For example,\n",
    "+1;􀀀1;+1;􀀀1 is a Dyck word, but +1;􀀀1;􀀀1;+1 is not a Dyck word since\n",
    "the prefix +1 􀀀 1 􀀀 1 < 0. Describe any relationship between Dyck words\n",
    "and Stack push(x) and pop() operations.\n",
    "\"\"\""
   ]
  },
  {
   "cell_type": "code",
   "execution_count": 13,
   "metadata": {
    "collapsed": true
   },
   "outputs": [],
   "source": [
    "\"\"\"\n",
    "Exercise 1.3.\n",
    "A matched string is a sequence of f, g, (, ), [, and ] characters\n",
    "that are properly matched. For example, “ff()[]gg” is a matched string, but\n",
    "this “ff()]g” is not, since the second f is matched with a ]. Show how to\n",
    "use a stack so that, given a string of length n, you can determine if it is a\n",
    "matched string in O(n) time.\"\"\""
   ]
  },
  {
   "cell_type": "code",
   "execution_count": 14,
   "metadata": {
    "collapsed": true
   },
   "outputs": [],
   "source": [
    "\"\"\"\n",
    "Exercise 1.4. \n",
    "Suppose you have a Stack, s, that supports only the push(x)\n",
    "and pop() operations. Show how, using only a FIFO Queue, q, you can\n",
    "reverse the order of all elements in s.\n",
    "\"\"\""
   ]
  },
  {
   "cell_type": "code",
   "execution_count": 15,
   "metadata": {
    "collapsed": true
   },
   "outputs": [],
   "source": [
    "\"\"\"\n",
    "Exercise 1.5. \n",
    "Using a USet, implement a Bag. A Bag is like a USet—it supports\n",
    "the add(x), remove(x) and find(x) methods—but it allows duplicate\n",
    "elements to be stored. The find(x) operation in a Bag returns some element\n",
    "(if any) that is equal to x. In addition, a Bag supports the find all(x)\n",
    "operation that returns a list of all elements in the Bag that are equal to x.\n",
    "\"\"\""
   ]
  },
  {
   "cell_type": "code",
   "execution_count": 16,
   "metadata": {
    "collapsed": true
   },
   "outputs": [],
   "source": [
    "\"\"\"\n",
    "Exercise 1.6. \n",
    "From scratch, write and test implementations of the List,\n",
    "USet and SSet interfaces. These do not have to be efficient. They can\n",
    "be used later to test the correctness and performance of more efficient\n",
    "implementations. (The easiest way to do this is to store the elements in\n",
    "an array.)\n",
    "\"\"\""
   ]
  },
  {
   "cell_type": "code",
   "execution_count": 17,
   "metadata": {
    "collapsed": true
   },
   "outputs": [],
   "source": [
    "\"\"\"\n",
    "Exercise 1.7. \n",
    "Work to improve the performance of your implementations\n",
    "from the previous question using any tricks you can think of. Experiment\n",
    "and think about how you could improve the performance of add(i;x) and\n",
    "remove(i) in your List implementation. Think about how you could improve\n",
    "the performance of the find(x) operation in your USet and SSet\n",
    "implementations. This exercise is designed to give you a feel for how\n",
    "difficult it can be to obtain efficient implementations of these interfaces.\n",
    "\"\"\""
   ]
  }
 ],
 "metadata": {
  "kernelspec": {
   "display_name": "Python 3",
   "language": "python",
   "name": "python3"
  },
  "language_info": {
   "codemirror_mode": {
    "name": "ipython",
    "version": 3
   },
   "file_extension": ".py",
   "mimetype": "text/x-python",
   "name": "python",
   "nbconvert_exporter": "python",
   "pygments_lexer": "ipython3",
   "version": "3.6.3"
  },
  "name": "data_structures_notes",
  "notebookId": 2600562155001166
 },
 "nbformat": 4,
 "nbformat_minor": 1
}
