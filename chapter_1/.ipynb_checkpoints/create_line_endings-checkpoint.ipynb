{
 "cells": [
  {
   "cell_type": "markdown",
   "metadata": {},
   "source": [
    "# Program to add new lines instead of periods for text file"
   ]
  },
  {
   "cell_type": "code",
   "execution_count": 2,
   "metadata": {
    "collapsed": true
   },
   "outputs": [],
   "source": [
    "import re"
   ]
  },
  {
   "cell_type": "code",
   "execution_count": 3,
   "metadata": {
    "collapsed": true
   },
   "outputs": [],
   "source": [
    "def insert_line_rm_period(string, index):\n",
    "    string = string[:index] + '\\n' + string[index:]\n",
    "    string = string.replace('. ','',1)\n",
    "    return string"
   ]
  },
  {
   "cell_type": "code",
   "execution_count": 4,
   "metadata": {},
   "outputs": [],
   "source": [
    "with open('randomtext_lorem.txt', 'r+') as f:\n",
    "    my_text = f.readlines()\n",
    "    my_string = my_text[0]\n",
    "    period_count = my_string.count('.')\n",
    "    i = 0\n",
    "    while i < period_count:\n",
    "        z = my_string.find('.')\n",
    "        my_string = insert_line_rm_period(my_string,z)\n",
    "        i += 1\n",
    "    with open('new_lorem.txt', 'w') as f2:\n",
    "        f2.write(my_string)\n",
    "        f2.close()\n",
    "    f.close()"
   ]
  },
  {
   "cell_type": "code",
   "execution_count": null,
   "metadata": {
    "collapsed": true
   },
   "outputs": [],
   "source": []
  }
 ],
 "metadata": {
  "kernelspec": {
   "display_name": "Python 3",
   "language": "python",
   "name": "python3"
  },
  "language_info": {
   "codemirror_mode": {
    "name": "ipython",
    "version": 3
   },
   "file_extension": ".py",
   "mimetype": "text/x-python",
   "name": "python",
   "nbconvert_exporter": "python",
   "pygments_lexer": "ipython3",
   "version": "3.6.3"
  }
 },
 "nbformat": 4,
 "nbformat_minor": 2
}
